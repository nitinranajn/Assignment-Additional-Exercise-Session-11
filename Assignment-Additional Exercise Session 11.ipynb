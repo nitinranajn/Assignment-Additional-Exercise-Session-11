{
 "cells": [
  {
   "cell_type": "markdown",
   "metadata": {},
   "source": [
    "Problem Statement 1: [50 marks]\n",
    "The marks awarded for an assignment set for a Year 8 class of 20 students were as follows: 6 7 5 7 7 8 7 6 9 7 4 10 6 8 8 9 5 6 4 8\n",
    "Problem Statement 2: [50 marks]\n",
    "The number of calls from motorists per day for roadside service was recorded for a particular month:\n",
    "28, 122, 217, 130, 120, 86, 80, 90, 140, 120, 70, 40, 145, 113, 90, 68, 174, 194, 170, 100, 75, 104, 97, 75, 123, 100, 75, 104, 97, 75, 123, 100, 89, 120, 109\n",
    "Calculate the mean, median, mode and standard deviation for the problem statements 1& 2.\n",
    "Problem Statement 3: [100 marks]\n",
    "The number of times I go to the gym in weekdays, are given below along with its associated probability:\n",
    "x = 0, 1, 2, 3, 4, 5\n",
    "f(x) = 0.09, 0.15, 0.40, 0.25, 0.10, 0.01\n",
    "Calculate the mean no. of workouts in a week. Also evaluate the variance involved in it.\n",
    "Problem Statement 4: [100 marks]\n",
    "Let the continuous random variable D denote the diameter of the hole drilled in an aluminum sheet. \n",
    "The target diameter to be achieved is 12.5mm. Random disturbances in the process often result in\n",
    "inaccuracy. Historical data shows that the distribution of D can be modelled by the PDF 𝑓(𝑑)=20𝑒−20(𝑑−12.5), 𝑑≥12.5. If a part with diameter > 12.6 mm needs to be scrapped, what is the proportion of those parts? What is the CDF when the diameter is of 11 mm? What is your conclusion regarding the proportion of scraps?"
   ]
  },
  {
   "cell_type": "code",
   "execution_count": 2,
   "metadata": {},
   "outputs": [
    {
     "name": "stdout",
     "output_type": "stream",
     "text": [
      "\n",
      "Calculation using statistics library\n",
      "Mean =  6.85\n",
      "Variance =  2.6605263157894736\n",
      "Standard_deviation =  1.6311119875071343\n",
      "Median = 7.0\n",
      "Mode =  7\n"
     ]
    }
   ],
   "source": [
    "#Problem Statement 1: [50 marks]\n",
    "# The marks awarded for an assignment set for a Year 8 class of 20 students were as follows:\n",
    "# 6 7 5 7 7 8 7 6 9 7 4 10 6 8 8 9 5 6 4 8. \n",
    "# Calculate the mean, median, mode and standard deviation\n",
    "import statistics as stat\n",
    "from math import sqrt \n",
    "\n",
    "marks = [6,7,5,7,7,8,7,6,9,7,4,10,6,8,8,9,5,6,4,8]\n",
    "\n",
    "\n",
    "print(\"\\nCalculation using statistics library\") \n",
    "print(\"Mean = \" , stat.mean(marks))\n",
    "print(\"Variance = \", stat.variance(marks)) \n",
    "print(\"Standard_deviation = \", stat.stdev(marks)) \n",
    "print(\"Median =\", stat.median(marks))\n",
    "print(\"Mode = \", stat.mode(marks))\n"
   ]
  },
  {
   "cell_type": "code",
   "execution_count": 3,
   "metadata": {},
   "outputs": [
    {
     "name": "stdout",
     "output_type": "stream",
     "text": [
      "\n",
      "Calculation using statistics library\n",
      "Mean =  107.51428571428572\n",
      "Variance =  1547.5512605042018\n",
      "Standard_deviation =  39.33892805484412\n",
      "Median = 100\n",
      "Mode =  75\n"
     ]
    }
   ],
   "source": [
    "# Problem Statement 2: [50 marks]\n",
    "# The number of calls from motorists per day for roadside service was recorded for a particular month:\n",
    "# 28, 122, 217, 130, 120, 86, 80, 90, 140, 120, 70, 40, 145, 113, 90, 68, 174, 194, 170, 100, 75, 104, \n",
    "# 97, 75, 123, 100, 75, 104, 97, 75, 123, 100, 89, 120, 109\n",
    "# Calculate the mean, median, mode and standard deviation for the problem statements\n",
    "import statistics as stat\n",
    "from math import sqrt \n",
    "no_of_calls= [28, 122, 217, 130, 120, 86, 80, 90, 140, 120, 70, 40, 145, 113, 90, 68, 174, 194, 170, 100, 75, 104,97, 75, 123, 100, 75, 104, 97, 75, 123, 100, 89, 120, 109]\n",
    "print(\"\\nCalculation using statistics library\") \n",
    "print(\"Mean = \" , stat.mean(no_of_calls))\n",
    "print(\"Variance = \", stat.variance(no_of_calls)) \n",
    "print(\"Standard_deviation = \", stat.stdev(no_of_calls)) \n",
    "print(\"Median =\", stat.median(no_of_calls))\n",
    "print(\"Mode = \", stat.mode(no_of_calls))"
   ]
  },
  {
   "cell_type": "code",
   "execution_count": 20,
   "metadata": {},
   "outputs": [
    {
     "name": "stdout",
     "output_type": "stream",
     "text": [
      "Mean no. of workouts in a week or Expected Value =  2.15\n",
      "Variance =  1.2275\n"
     ]
    }
   ],
   "source": [
    "# Problem Statement 3: [100 marks]\n",
    "# The number of times I go to the gym in weekdays, are given below along with its associated probability:\n",
    "# x = 0, 1, 2, 3, 4, 5\n",
    "# f(x) = 0.09, 0.15, 0.40, 0.25, 0.10, 0.01\n",
    "# Calculate the mean no. of workouts in a week. Also evaluate the variance involved in it.\n",
    "'''\n",
    "Solution:\n",
    "Mean==> E[x]  = x1*f(x1)+x2*f(x2)+x3*f(x3)+.....+xn*f(xn)\n",
    "variance ==>E[(x-mean)**2]= (x1-mean)**2 * f(x1)+ (x2-mean)**2 * f(x2)+.....+(xn-mean)**2 * f(xn) \n",
    "'''\n",
    "import statistics as stat\n",
    "from math import sqrt \n",
    "x=[0,1,2,3,4,5]\n",
    "func_x = [0.09, 0.15, 0.40, 0.25, 0.10, 0.01]\n",
    "mean=0\n",
    "variance =0\n",
    "for n in range(len(x)):\n",
    "    mean += x[n]*func_x[n]\n",
    "print(\"Mean no. of workouts in a week or Expected Value = \",mean )\n",
    "for n in range(len(x)):\n",
    "    variance += (x[n]-mean)**2 * func_x[n]\n",
    "print(\"Variance  = \", variance)\n",
    "\n"
   ]
  },
  {
   "cell_type": "code",
   "execution_count": null,
   "metadata": {},
   "outputs": [],
   "source": [
    "# Problem Statement 4: [100 marks]\n",
    "# Let the continuous random variable D denote the diameter of the hole drilled in an aluminum sheet. \n",
    "# The target diameter to be achieved is 12.5mm. Random disturbances in the process often result in\n",
    "# inaccuracy. Historical data shows that the distribution of D can be modelled by the PDF \n",
    "# 𝑓(𝑑)=20𝑒−20(𝑑−12.5), 𝑑≥12.5. If a part with diameter > 12.6 mm needs to be scrapped, \n",
    "# what is the proportion of those parts? What is the CDF when the diameter is of 11 mm? \n",
    "# What is your conclusion regarding the proportion of scraps?\n"
   ]
  },
  {
   "cell_type": "markdown",
   "metadata": {},
   "source": [
    "# Solution taken from notebook in handwritten\n",
    "\n",
    "<img src=\"Additional Exercise session11_Q4.jpg\">"
   ]
  },
  {
   "cell_type": "code",
   "execution_count": null,
   "metadata": {},
   "outputs": [],
   "source": []
  },
  {
   "cell_type": "code",
   "execution_count": null,
   "metadata": {},
   "outputs": [],
   "source": []
  }
 ],
 "metadata": {
  "kernelspec": {
   "display_name": "Python 3",
   "language": "python",
   "name": "python3"
  },
  "language_info": {
   "codemirror_mode": {
    "name": "ipython",
    "version": 3
   },
   "file_extension": ".py",
   "mimetype": "text/x-python",
   "name": "python",
   "nbconvert_exporter": "python",
   "pygments_lexer": "ipython3",
   "version": "3.7.0"
  }
 },
 "nbformat": 4,
 "nbformat_minor": 2
}
